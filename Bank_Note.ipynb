{
 "cells": [
  {
   "cell_type": "code",
   "execution_count": 1,
   "metadata": {},
   "outputs": [],
   "source": [
    "import pandas as pd\n",
    "import numpy as np\n",
    "import matplotlib.pyplot as plt"
   ]
  },
  {
   "cell_type": "code",
   "execution_count": 2,
   "metadata": {},
   "outputs": [],
   "source": [
    "df = pd.read_csv('BankNote_Authentication.csv')"
   ]
  },
  {
   "cell_type": "code",
   "execution_count": 3,
   "metadata": {},
   "outputs": [
    {
     "data": {
      "text/html": [
       "<div>\n",
       "<style scoped>\n",
       "    .dataframe tbody tr th:only-of-type {\n",
       "        vertical-align: middle;\n",
       "    }\n",
       "\n",
       "    .dataframe tbody tr th {\n",
       "        vertical-align: top;\n",
       "    }\n",
       "\n",
       "    .dataframe thead th {\n",
       "        text-align: right;\n",
       "    }\n",
       "</style>\n",
       "<table border=\"1\" class=\"dataframe\">\n",
       "  <thead>\n",
       "    <tr style=\"text-align: right;\">\n",
       "      <th></th>\n",
       "      <th>variance</th>\n",
       "      <th>skewness</th>\n",
       "      <th>curtosis</th>\n",
       "      <th>entropy</th>\n",
       "      <th>class</th>\n",
       "    </tr>\n",
       "  </thead>\n",
       "  <tbody>\n",
       "    <tr>\n",
       "      <th>0</th>\n",
       "      <td>3.62160</td>\n",
       "      <td>8.6661</td>\n",
       "      <td>-2.8073</td>\n",
       "      <td>-0.44699</td>\n",
       "      <td>0</td>\n",
       "    </tr>\n",
       "    <tr>\n",
       "      <th>1</th>\n",
       "      <td>4.54590</td>\n",
       "      <td>8.1674</td>\n",
       "      <td>-2.4586</td>\n",
       "      <td>-1.46210</td>\n",
       "      <td>0</td>\n",
       "    </tr>\n",
       "    <tr>\n",
       "      <th>2</th>\n",
       "      <td>3.86600</td>\n",
       "      <td>-2.6383</td>\n",
       "      <td>1.9242</td>\n",
       "      <td>0.10645</td>\n",
       "      <td>0</td>\n",
       "    </tr>\n",
       "    <tr>\n",
       "      <th>3</th>\n",
       "      <td>3.45660</td>\n",
       "      <td>9.5228</td>\n",
       "      <td>-4.0112</td>\n",
       "      <td>-3.59440</td>\n",
       "      <td>0</td>\n",
       "    </tr>\n",
       "    <tr>\n",
       "      <th>4</th>\n",
       "      <td>0.32924</td>\n",
       "      <td>-4.4552</td>\n",
       "      <td>4.5718</td>\n",
       "      <td>-0.98880</td>\n",
       "      <td>0</td>\n",
       "    </tr>\n",
       "  </tbody>\n",
       "</table>\n",
       "</div>"
      ],
      "text/plain": [
       "   variance  skewness  curtosis  entropy  class\n",
       "0   3.62160    8.6661   -2.8073 -0.44699      0\n",
       "1   4.54590    8.1674   -2.4586 -1.46210      0\n",
       "2   3.86600   -2.6383    1.9242  0.10645      0\n",
       "3   3.45660    9.5228   -4.0112 -3.59440      0\n",
       "4   0.32924   -4.4552    4.5718 -0.98880      0"
      ]
     },
     "execution_count": 3,
     "metadata": {},
     "output_type": "execute_result"
    }
   ],
   "source": [
    "df.head()"
   ]
  },
  {
   "cell_type": "code",
   "execution_count": 4,
   "metadata": {},
   "outputs": [],
   "source": [
    "X = df.iloc[:,:-1].values\n",
    "y = df.iloc[:,-1].values"
   ]
  },
  {
   "cell_type": "code",
   "execution_count": 5,
   "metadata": {},
   "outputs": [],
   "source": [
    "from sklearn.model_selection import train_test_split\n",
    "from sklearn.metrics import f1_score\n",
    "\n",
    "X_train, X_test, y_train, y_test = train_test_split(X, y, test_size = 0.3, random_state = 0)"
   ]
  },
  {
   "cell_type": "code",
   "execution_count": 6,
   "metadata": {},
   "outputs": [],
   "source": [
    "X_train_flatten = X_train.reshape(X_train.shape[0], -1).T\n",
    "X_test_flatten = X_test.reshape(X_test.shape[0], -1).T\n",
    "\n",
    "y_train_flatten = y_train.reshape(y_train.shape[0], -1).T\n",
    "y_test_flatten = y_test.reshape(y_test.shape[0], -1).T"
   ]
  },
  {
   "cell_type": "code",
   "execution_count": 7,
   "metadata": {},
   "outputs": [],
   "source": [
    "def initialize_parameters(n_x, n_h1, n_h2, n_y):\n",
    "    \"\"\"\n",
    "    Argument:\n",
    "    n_x -- size of the input layer\n",
    "    n_h1 -- size of the hidden layer1\n",
    "    n_h2 -- size of the hidden layer2\n",
    "    n_y -- size of the output layer\n",
    "    \n",
    "    Returns:\n",
    "    parameters -- python dictionary containing your parameters:\n",
    "                    W1 -- weight matrix of shape (n_h1, n_x)\n",
    "                    b1 -- bias vector of shape (n_h1, 1)\n",
    "                    W2 -- weight matrix of shape (n_h2, n_h1)\n",
    "                    b2 -- bias vector of shape (n_h2, 1)\n",
    "                    W3 -- weight matrix of shape (n_y, n_h2)\n",
    "                    b3 -- bias vector of shape (n_y, 1)\n",
    "                    k0 -- k0 value\n",
    "                    k1 -- k1 value\n",
    "                    k2 -- k2 value\n",
    "    \"\"\"\n",
    "    \n",
    "    np.random.seed(42)\n",
    "    \n",
    "\n",
    "    W1 = np.random.randn(n_h1, n_x) * 0.1\n",
    "    b1 = np.zeros(shape=(n_h1, 1))\n",
    "    W2 = np.random.randn(n_h2, n_h1) * 0.1\n",
    "    b2 = np.zeros(shape=(n_h2, 1))\n",
    "    W3 = np.random.randn(n_y, n_h2) * 0.1\n",
    "    b3 = np.zeros(shape=(n_y, 1))\n",
    "    \n",
    "    k0 = np.random.randn(1, 1) * 0.1\n",
    "    k0 = k0[0][0]\n",
    "    k1 = np.random.randn(1, 1) * 0.1\n",
    "    k1 = k1[0][0]\n",
    "    k2 = np.random.randn(1, 1) * 0.1\n",
    "    k2 = k2[0][0]\n",
    "    \n",
    "    \n",
    "    assert(W1.shape == (n_h1, n_x))\n",
    "    assert(b1.shape == (n_h1, 1))\n",
    "    assert(W2.shape == (n_h2, n_h1))\n",
    "    assert(b2.shape == (n_h2, 1))\n",
    "    assert(W3.shape == (n_y, n_h2))\n",
    "    assert(b3.shape == (n_y, 1))\n",
    "    \n",
    "    parameters = {\"W1\": W1,\n",
    "                  \"b1\": b1,\n",
    "                  \"W2\": W2,\n",
    "                  \"b2\": b2,\n",
    "                  \"W3\": W3,\n",
    "                  \"b3\": b3,\n",
    "                  \"k0\": k0,\n",
    "                  \"k1\": k1,\n",
    "                  \"k2\": k2}\n",
    "    \n",
    "    return parameters"
   ]
  },
  {
   "cell_type": "code",
   "execution_count": 8,
   "metadata": {},
   "outputs": [],
   "source": [
    "#parameters = initialize_parameters(X_train_flatten.shape[0], 4, 4, y_train_flatten.shape[0])\n",
    "# print(\"W1 = \" + str(parameters[\"W1\"]))\n",
    "# print(\"b1 = \" + str(parameters[\"b1\"]))\n",
    "# print(\"W2 = \" + str(parameters[\"W2\"]))\n",
    "# print(\"b2 = \" + str(parameters[\"b2\"]))\n",
    "# print(\"W3 = \" + str(parameters[\"W3\"]))\n",
    "# print(\"b3 = \" + str(parameters[\"b3\"]))\n",
    "# print(\"k0 = \" + str(parameters[\"k0\"]))\n",
    "# print(\"k1 = \" + str(parameters[\"k1\"]))\n",
    "# print(\"k2 = \" + str(parameters[\"k2\"]))"
   ]
  },
  {
   "cell_type": "code",
   "execution_count": 9,
   "metadata": {},
   "outputs": [],
   "source": [
    "def forward_propagation(X, y, parameters):\n",
    "    \"\"\"\n",
    "    Argument:\n",
    "    X -- input data of size (n_x, m)\n",
    "    y -- \"true\" labels vector of shape (1, number of examples)\n",
    "    parameters -- python dictionary containing your parameters (output of initialization function)\n",
    "    \n",
    "    Returns:\n",
    "    cache -- a dictionary containing \"Z1\", \"A1\", \"Z2\", \"A2\", \"Z3\" and \"A3\"\n",
    "    cost -- cross-entropy cost\n",
    "    \"\"\"\n",
    "\n",
    "    m = y.shape[1]\n",
    "    \n",
    "    W1 = parameters['W1']\n",
    "    b1 = parameters['b1']\n",
    "    W2 = parameters['W2']\n",
    "    b2 = parameters['b2']\n",
    "    W3 = parameters['W3']\n",
    "    b3 = parameters['b3']\n",
    "    k0 = parameters['k0']\n",
    "    k1 = parameters['k1']\n",
    "    \n",
    "\n",
    "    Z1 = np.dot(W1, X) + b1\n",
    "    A1 = k0 + k1*Z1\n",
    "    Z2 = np.dot(W2, A1) + b2\n",
    "    A2 = k0 + k1*Z2\n",
    "    Z3 = np.dot(W3, A2) + b3\n",
    "    A3 = 1 / (1 + np.exp(-Z3))\n",
    "    \n",
    "    cost = (-1 / m) * np.sum(y * np.log(A3) + (1 - y) * (np.log(1 - A3)))\n",
    "    \n",
    "    \n",
    "    assert(A3.shape == (1, X.shape[1]))\n",
    "    cost = np.squeeze(cost)\n",
    "    assert(cost.shape == ())\n",
    "    \n",
    "    cache = {\"Z1\": Z1,\n",
    "             \"A1\": A1,\n",
    "             \"Z2\": Z2,\n",
    "             \"A2\": A2,\n",
    "             \"Z3\": Z3,\n",
    "             \"A3\": A3}\n",
    "    \n",
    "    return cache, cost"
   ]
  },
  {
   "cell_type": "code",
   "execution_count": 10,
   "metadata": {},
   "outputs": [],
   "source": [
    "#cache, cost = forward_propagation(X_train_flatten, y_train_flatten, parameters)"
   ]
  },
  {
   "cell_type": "code",
   "execution_count": 11,
   "metadata": {},
   "outputs": [],
   "source": [
    "def backward_propagation(parameters, cache, X, y):\n",
    "    \"\"\"\n",
    "    Implement the backward propagation using the instructions above.\n",
    "    \n",
    "    Arguments:\n",
    "    parameters -- python dictionary containing our parameters \n",
    "    cache -- a dictionary containing \"Z1\", \"A1\", \"Z2\", \"A2\", \"Z3\" and \"A3\".\n",
    "    X -- input data \n",
    "    y -- \"true\" labels vector of shape (1, number of examples)\n",
    "    \n",
    "    Returns:\n",
    "    grads -- python dictionary containing your gradients with respect to different parameters\n",
    "    \"\"\"\n",
    "    m = X.shape[1]\n",
    "    \n",
    "    W1 = parameters['W1']\n",
    "    W2 = parameters['W2']\n",
    "    W3 = parameters['W3']\n",
    "    k1 = parameters['k1']\n",
    "\n",
    "    A1 = cache['A1']\n",
    "    A2 = cache['A2']\n",
    "    A3 = cache['A3']\n",
    "    Z1 = cache['Z1']\n",
    "    \n",
    "\n",
    "    dZ3 = A3 - y\n",
    "    dW3 = (1 / m) * np.dot(dZ3, A2.T)\n",
    "    db3 = (1 / m) * np.sum(dZ3, axis=1, keepdims = True)\n",
    "    \n",
    "    dZ2 = np.multiply(np.dot(W3.T, dZ3), k1)\n",
    "    dW2 = (1 / m) * np.dot(dZ2, A1.T)\n",
    "    db2 = (1 / m) * np.sum(dZ2, axis=1, keepdims = True)\n",
    "    \n",
    "    dZ1 = np.multiply(np.dot(W2.T, dZ2), k1)\n",
    "    dW1 = (1 / m) * np.dot(dZ1, X.T)\n",
    "    db1 = (1 / m) * np.sum(dZ1, axis=1, keepdims = True)\n",
    "    \n",
    "    dk0 = (1 / m) * np.sum(np.dot(W2.T, dZ2))\n",
    "    dk1 = (1 / m) * np.sum(np.multiply(np.dot(W2.T, dZ2), Z1))\n",
    "    \n",
    "    grads = {\"dW1\": dW1,\n",
    "             \"db1\": db1,\n",
    "             \"dW2\": dW2,\n",
    "             \"db2\": db2,\n",
    "             \"dW3\": dW3,\n",
    "             \"db3\": db3,\n",
    "             \"dk0\": dk0,\n",
    "             \"dk1\": dk1}\n",
    "    \n",
    "    return grads"
   ]
  },
  {
   "cell_type": "code",
   "execution_count": 12,
   "metadata": {},
   "outputs": [],
   "source": [
    "#grads = backward_propagation(parameters, cache, X_train_flatten, y_train_flatten)"
   ]
  },
  {
   "cell_type": "code",
   "execution_count": 13,
   "metadata": {},
   "outputs": [],
   "source": [
    "def update_parameters(parameters, grads, learning_rate):\n",
    "    \"\"\"\n",
    "    Updates parameters using the gradient descent update rule given above\n",
    "    \n",
    "    Arguments:\n",
    "    parameters -- python dictionary containing your parameters \n",
    "    grads -- python dictionary containing your gradients \n",
    "    \n",
    "    Returns:\n",
    "    parameters -- python dictionary containing your updated parameters \n",
    "    \"\"\"\n",
    "\n",
    "    W1 = parameters['W1']\n",
    "    b1 = parameters['b1']\n",
    "    W2 = parameters['W2']\n",
    "    b2 = parameters['b2']\n",
    "    W3 = parameters['W3']\n",
    "    b3 = parameters['b3']\n",
    "    k0 = parameters['k0']\n",
    "    k1 = parameters['k1']\n",
    "    \n",
    "\n",
    "    dW1 = grads['dW1']\n",
    "    db1 = grads['db1']\n",
    "    dW2 = grads['dW2']\n",
    "    db2 = grads['db2']\n",
    "    dW3 = grads['dW3']\n",
    "    db3 = grads['db3']\n",
    "    dk0 = grads['dk0']\n",
    "    dk1 = grads['dk1']\n",
    "    \n",
    "\n",
    "    W1 = W1 - learning_rate * dW1\n",
    "    b1 = b1 - learning_rate * db1\n",
    "    W2 = W2 - learning_rate * dW2\n",
    "    b2 = b2 - learning_rate * db2\n",
    "    W3 = W3 - learning_rate * dW3\n",
    "    b3 = b3 - learning_rate * db3\n",
    "    k0 = k0 - learning_rate * dk0\n",
    "    k1 = k1 - learning_rate * dk1\n",
    "    \n",
    "    parameters = {\"W1\": W1,\n",
    "                  \"b1\": b1,\n",
    "                  \"W2\": W2,\n",
    "                  \"b2\": b2,\n",
    "                  \"W3\": W3,\n",
    "                  \"b3\": b3,\n",
    "                  \"k0\": k0,\n",
    "                  \"k1\": k1}\n",
    "    \n",
    "    return parameters"
   ]
  },
  {
   "cell_type": "code",
   "execution_count": 14,
   "metadata": {},
   "outputs": [],
   "source": [
    "#parameters = update_parameters(parameters, grads, learning_rate = 0.005)"
   ]
  },
  {
   "cell_type": "code",
   "execution_count": 15,
   "metadata": {},
   "outputs": [],
   "source": [
    "def predict(X, y, parameters):\n",
    "    \n",
    "    cache, cost = forward_propagation(X, y, parameters)\n",
    "    A = cache[\"A3\"]\n",
    "    m = X.shape[1]\n",
    "    y_prediction = np.zeros((1, m))\n",
    "    \n",
    "    for i in range(A.shape[1]):\n",
    "        # Convert probabilities a[0,i] to actual predictions p[0,i]\n",
    "        y_prediction[0, i] = 1 if A[0, i] > 0.5 else 0\n",
    "\n",
    "    assert(y_prediction.shape == (1, m))\n",
    "    \n",
    "    return y_prediction, cost"
   ]
  },
  {
   "cell_type": "code",
   "execution_count": 16,
   "metadata": {},
   "outputs": [],
   "source": [
    "def model(X, y, X_test, y_test, num_iterations, print_cost, learning_rate):\n",
    "    \"\"\"\n",
    "    Arguments:\n",
    "    X -- dataset of shape \n",
    "    Y -- labels of shape \n",
    "    num_iterations -- Number of iterations in gradient descent loop\n",
    "    print_cost -- if True, print the cost every 1000 iterations\n",
    "    \n",
    "    Returns:\n",
    "    parameters -- parameters learnt by the model. They can then be used to predict.\n",
    "    \"\"\"\n",
    "    \n",
    "    np.random.seed(42)\n",
    "    \n",
    "    n_x = X.shape[0]\n",
    "    n_y = y.shape[0]\n",
    "    \n",
    "    parameters = initialize_parameters(n_x, 4, 4, n_y)\n",
    "    \n",
    "    # Loop (gradient descent)\n",
    "    \n",
    "    costs = []\n",
    "    k_0 = []\n",
    "    k_1 = []\n",
    "\n",
    "    for i in range(0, num_iterations+1):\n",
    "         \n",
    "        # Forward propagation\n",
    "        cache, cost = forward_propagation(X, y, parameters)\n",
    " \n",
    "        # Backpropagation\n",
    "        grads = backward_propagation(parameters, cache, X, y)\n",
    " \n",
    "        # Gradient descent parameter update\n",
    "        parameters = update_parameters(parameters, grads, learning_rate)\n",
    "        \n",
    "        # Print the cost every 1000 iterations\n",
    "        if print_cost and i % 1000 == 0:\n",
    "            print (\"Cost after iteration %i: %f\" % (i, cost))\n",
    "            costs.append(cost)\n",
    "            k_0.append(parameters[\"k0\"])\n",
    "            k_1.append(parameters[\"k1\"])\n",
    "            \n",
    "    # Final Value of k0 and k1\n",
    "    print(\"Final Value of k0 = {}\".format(parameters[\"k0\"]))\n",
    "    print(\"Final Value of k1 = {}\".format(parameters[\"k1\"]))\n",
    "    \n",
    "    # Prediction\n",
    "    \n",
    "    prediction_train, train_loss = predict(X, y, parameters)\n",
    "    print(\"Train accuracy: {} %\".format(100 - np.mean(np.abs(prediction_train - y)) * 100))\n",
    "    \n",
    "    prediction_test, test_loss = predict(X_test, y_test, parameters)\n",
    "    print(\"Test accuracy: {} %\".format(100 - np.mean(np.abs(prediction_test - y_test)) * 100))\n",
    "    \n",
    "    print(\"Train Loss = {}\".format(train_loss))\n",
    "    print(\"Test Loss = {}\".format(test_loss))\n",
    "    \n",
    "    print(\"F1 Score: {} \".format(f1_score(y_test, prediction_test, average='micro')))\n",
    "    \n",
    "    d = {\"costs\": costs, \n",
    "         \"k0\" : k_0, \n",
    "         \"k1\" : k_1,\n",
    "         \"learning_rate\" : learning_rate,\n",
    "         \"num_iterations\": num_iterations}\n",
    "\n",
    "    return parameters, d"
   ]
  },
  {
   "cell_type": "code",
   "execution_count": 17,
   "metadata": {},
   "outputs": [
    {
     "name": "stdout",
     "output_type": "stream",
     "text": [
      "Cost after iteration 0: 0.692988\n",
      "Cost after iteration 1000: 0.687670\n",
      "Cost after iteration 2000: 0.687541\n",
      "Cost after iteration 3000: 0.687363\n",
      "Cost after iteration 4000: 0.686881\n",
      "Cost after iteration 5000: 0.684158\n",
      "Cost after iteration 6000: 0.158006\n",
      "Cost after iteration 7000: 0.027359\n",
      "Cost after iteration 8000: 0.021110\n",
      "Cost after iteration 9000: 0.019461\n",
      "Cost after iteration 10000: 0.018754\n",
      "Cost after iteration 11000: 0.018400\n",
      "Cost after iteration 12000: 0.018212\n",
      "Cost after iteration 13000: 0.018110\n",
      "Cost after iteration 14000: 0.018053\n",
      "Cost after iteration 15000: 0.018021\n",
      "Final Value of k0 = -0.17257283164492804\n",
      "Final Value of k1 = -1.5785947762718253\n",
      "Train accuracy: 99.0625 %\n",
      "Test accuracy: 98.05825242718447 %\n",
      "Train Loss = 0.01802053774241493\n",
      "Test Loss = 0.025613597423404157\n",
      "F1 Score: 0.9782608695652174 \n"
     ]
    }
   ],
   "source": [
    "parameters, d = model(X_train_flatten, y_train_flatten, X_test_flatten, y_test_flatten, num_iterations = 15000, print_cost = True, learning_rate = 0.01)"
   ]
  },
  {
   "cell_type": "code",
   "execution_count": 18,
   "metadata": {},
   "outputs": [
    {
     "data": {
      "image/png": "[encoded data removed]",
      "text/plain": [
       "<Figure size 432x288 with 1 Axes>"
      ]
     },
     "metadata": {
      "needs_background": "light"
     },
     "output_type": "display_data"
    }
   ],
   "source": [
    "costs = np.squeeze(d['costs'])\n",
    "plt.plot(costs)\n",
    "plt.ylabel('cost')\n",
    "plt.xlabel('iterations (per thousands)')\n",
    "plt.title(\"Learning rate =\" + str(d[\"learning_rate\"]))\n",
    "plt.show()"
   ]
  },
  {
   "cell_type": "code",
   "execution_count": 19,
   "metadata": {},
   "outputs": [
    {
     "data": {
      "image/png": "[encoded data removed]",
      "text/plain": [
       "<Figure size 432x288 with 1 Axes>"
      ]
     },
     "metadata": {
      "needs_background": "light"
     },
     "output_type": "display_data"
    }
   ],
   "source": [
    "k0 = np.squeeze(d['k0'])\n",
    "plt.plot(k0)\n",
    "plt.ylabel('k0 Value')\n",
    "plt.xlabel('iterations (per thousands)')\n",
    "plt.title(\"Learning rate =\" + str(d[\"learning_rate\"]))\n",
    "plt.show()"
   ]
  },
  {
   "cell_type": "code",
   "execution_count": 20,
   "metadata": {},
   "outputs": [
    {
     "data": {
      "image/png": "[encoded data removed]",
      "text/plain": [
       "<Figure size 432x288 with 1 Axes>"
      ]
     },
     "metadata": {
      "needs_background": "light"
     },
     "output_type": "display_data"
    }
   ],
   "source": [
    "k1 = np.squeeze(d['k1'])\n",
    "plt.plot(k1)\n",
    "plt.ylabel('k1 Value')\n",
    "plt.xlabel('iterations (per thousands)')\n",
    "plt.title(\"Learning rate =\" + str(d[\"learning_rate\"]))\n",
    "plt.show()"
   ]
  },
  {
   "cell_type": "code",
   "execution_count": null,
   "metadata": {},
   "outputs": [],
   "source": []
  }
 ],
 "metadata": {
  "kernelspec": {
   "display_name": "Python 3",
   "language": "python",
   "name": "python3"
  },
  "language_info": {
   "codemirror_mode": {
    "name": "ipython",
    "version": 3
   },
   "file_extension": ".py",
   "mimetype": "text/x-python",
   "name": "python",
   "nbconvert_exporter": "python",
   "pygments_lexer": "ipython3",
   "version": "3.7.3"
  }
 },
 "nbformat": 4,
 "nbformat_minor": 2
}
